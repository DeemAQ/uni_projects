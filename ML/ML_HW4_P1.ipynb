{
  "nbformat": 4,
  "nbformat_minor": 0,
  "metadata": {
    "colab": {
      "name": "ML_HW4_P1.ipynb",
      "provenance": [],
      "collapsed_sections": []
    },
    "kernelspec": {
      "name": "python3",
      "display_name": "Python 3"
    },
    "language_info": {
      "name": "python"
    }
  },
  "cells": [
    {
      "cell_type": "markdown",
      "metadata": {
        "id": "ZzVNr68ycM3P"
      },
      "source": [
        "Import Section:"
      ]
    },
    {
      "cell_type": "code",
      "metadata": {
        "id": "o1AFQtWkYSVL"
      },
      "source": [
        "from sklearn.datasets import make_classification, make_moons, make_circles\n",
        "from sklearn.model_selection import train_test_split\n",
        "\n",
        "import matplotlib.pyplot as plt\n",
        "\n",
        "from keras.models import Sequential\n",
        "from keras.layers import Dense, Flatten, Activation"
      ],
      "execution_count": null,
      "outputs": []
    },
    {
      "cell_type": "markdown",
      "metadata": {
        "id": "9o0ar1S5clSq"
      },
      "source": [
        "Plotting Functions:"
      ]
    },
    {
      "cell_type": "code",
      "metadata": {
        "id": "5wwvJZsPcZNY"
      },
      "source": [
        "def plot_data(X, y, figsize=None):\n",
        "    if not figsize:\n",
        "        figsize = (8, 6)\n",
        "    plt.figure(figsize=figsize)\n",
        "    plt.plot(X[y==0, 0], X[y==0, 1], 'or', alpha=0.5, label=0)\n",
        "    plt.plot(X[y==1, 0], X[y==1, 1], 'ob', alpha=0.5, label=1)\n",
        "    plt.xlim((min(X[:, 0])-0.1, max(X[:, 0])+0.1))\n",
        "    plt.ylim((min(X[:, 1])-0.1, max(X[:, 1])+0.1))\n",
        "    plt.legend()\n",
        "\n",
        "\n",
        "\n",
        "def plot_accuracy(history):\n",
        "    plt.plot(history.history['accuracy'])\n",
        "    plt.plot(history.history['val_accuracy'])\n",
        "    plt.title('training and validation accuracy against epoch')\n",
        "    plt.ylabel('accuracy')\n",
        "    plt.xlabel('epoch')\n",
        "    plt.legend(['train', 'valid'], loc='upper left')\n",
        "    plt.show()\n",
        "    return \n",
        "    \n",
        "    \n",
        "\n",
        "def plot_loss(history):\n",
        "     plt.plot(history.history['loss'])\n",
        "     plt.plot(history.history['val_loss'])\n",
        "     plt.title('training and validation loss against epoch')\n",
        "     plt.ylabel('loss')\n",
        "     plt.xlabel('epoch')\n",
        "     plt.legend(['train', 'valid'], loc='upper left')\n",
        "     plt.show()\n",
        "     return "
      ],
      "execution_count": null,
      "outputs": []
    },
    {
      "cell_type": "markdown",
      "metadata": {
        "id": "tTuu-Xz9ebUZ"
      },
      "source": [
        "Main Script:"
      ]
    },
    {
      "cell_type": "markdown",
      "metadata": {
        "id": "cM1i2gn9As92"
      },
      "source": [
        "Model 1:"
      ]
    },
    {
      "cell_type": "code",
      "metadata": {
        "id": "e9RzfKaMcaQu"
      },
      "source": [
        "# generate random dataset\n",
        "X, y =  make_circles(n_samples=1000, noise=0.05, random_state=0)\n",
        "\n",
        "no_classes = 2\n",
        "n = X.shape[1]\n",
        "\n",
        "X_train, X_valid, y_train, y_valid = train_test_split(X, y, train_size=0.80, test_size=0.20)\n",
        "\n",
        "\n",
        "# plot the dataset\n",
        "plot_data(X, y)\n",
        "\n",
        "\n",
        "# Model1: Baseline model (logistic regression)\n",
        "model = Sequential()\n",
        "model.add(Dense(1, activation = 'sigmoid', input_dim = n))\n",
        "model.compile(loss='binary_crossentropy', optimizer='adam', metrics=['accuracy'])\n",
        "history = model.fit(X_train, y_train, epochs=10, validation_data=(X_valid, y_valid))"
      ],
      "execution_count": null,
      "outputs": []
    },
    {
      "cell_type": "code",
      "metadata": {
        "id": "dqbIG2Un_8Sd"
      },
      "source": [
        "plot_loss(history)"
      ],
      "execution_count": null,
      "outputs": []
    },
    {
      "cell_type": "code",
      "metadata": {
        "id": "1R2v4qWrAESJ"
      },
      "source": [
        "plot_accuracy(history)"
      ],
      "execution_count": null,
      "outputs": []
    },
    {
      "cell_type": "markdown",
      "metadata": {
        "id": "8RRE5J-PAxLm"
      },
      "source": [
        "Model 2:"
      ]
    },
    {
      "cell_type": "code",
      "metadata": {
        "id": "kkJ1rUEpAzSx"
      },
      "source": [
        "model_2 = Sequential()\n",
        "model_2.add(Dense(12, activation='sigmoid',input_dim = n))\n",
        "model_2.add(Dense(8, activation='sigmoid'))\n",
        "model_2.add(Dense(1, activation='sigmoid'))\n",
        "model_2.compile(loss='binary_crossentropy',optimizer='rmsprop',metrics=['accuracy'])\n",
        "history_2 = model_2.fit(X_train, y_train, epochs=50, validation_data=(X_valid, y_valid))"
      ],
      "execution_count": null,
      "outputs": []
    },
    {
      "cell_type": "code",
      "metadata": {
        "id": "7MIp5yJJFVNB"
      },
      "source": [
        "plot_loss(history_2)"
      ],
      "execution_count": null,
      "outputs": []
    },
    {
      "cell_type": "code",
      "metadata": {
        "id": "EdazM1nQFRly"
      },
      "source": [
        "plot_accuracy(history_2)"
      ],
      "execution_count": null,
      "outputs": []
    }
  ]
}
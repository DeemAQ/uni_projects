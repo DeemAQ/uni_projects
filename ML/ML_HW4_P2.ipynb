{
  "nbformat": 4,
  "nbformat_minor": 0,
  "metadata": {
    "colab": {
      "name": "ML_HW4_P2.ipynb",
      "provenance": [],
      "collapsed_sections": []
    },
    "kernelspec": {
      "name": "python3",
      "display_name": "Python 3"
    },
    "language_info": {
      "name": "python"
    }
  },
  "cells": [
    {
      "cell_type": "markdown",
      "metadata": {
        "id": "OvdYBQtkNBNb"
      },
      "source": [
        "Import Section:"
      ]
    },
    {
      "cell_type": "code",
      "metadata": {
        "id": "1CFgWxo0NhpW"
      },
      "source": [
        "import numpy as np\n",
        "from matplotlib import pyplot as plt\n",
        "\n",
        "from keras.datasets import cifar10\n",
        "from keras.models import Sequential\n",
        "from keras.layers import Dense, Flatten, Conv2D, MaxPooling2D\n",
        "from tensorflow.keras.utils import to_categorical\n",
        "from sklearn.metrics import precision_score, recall_score, accuracy_score, confusion_matrix"
      ],
      "execution_count": 16,
      "outputs": []
    },
    {
      "cell_type": "markdown",
      "metadata": {
        "id": "eYqtHo-NNLop"
      },
      "source": [
        "Loading and prepping the dataset:"
      ]
    },
    {
      "cell_type": "code",
      "metadata": {
        "id": "kR3ghNMnNldd"
      },
      "source": [
        "# Load dataset\n",
        "(X_train, Y_train), (X_test, Y_test) = cifar10.load_data()\n",
        "\n",
        "\n",
        "# Normalize training and testing pixel values\n",
        "train_norm = X_train.astype(\"float32\") / 255.0\n",
        "test_norm = X_test.astype(\"float32\") / 255.0\n",
        "\n",
        "\n",
        "# Convert class vectors to binary class matrices.\n",
        "Y_train = to_categorical(Y_train, num_classes=10)\n",
        "Y_test = to_categorical(Y_test, num_classes=10)"
      ],
      "execution_count": 17,
      "outputs": []
    },
    {
      "cell_type": "markdown",
      "metadata": {
        "id": "1V4EUA_oP8yT"
      },
      "source": [
        "Model design:"
      ]
    },
    {
      "cell_type": "code",
      "metadata": {
        "id": "SDvq_1lyNp41",
        "colab": {
          "base_uri": "https://localhost:8080/"
        },
        "outputId": "9ff414aa-b164-4e64-8470-14c653df00ec"
      },
      "source": [
        "img_w, img_h, rbg = 32, 32, 3\n",
        "loss_function = \"categorical_crossentropy\"\n",
        "no_classes = 10\n",
        "opt = 'adam'\n",
        "ep = 50\n",
        "\n",
        "model = Sequential()\n",
        "\n",
        "# Layers:\n",
        "model.add(Conv2D(filters=32, kernel_size=(3, 3), activation=\"relu\", padding=\"same\", input_shape=(img_w, img_h, rbg),strides=(1,1)))\n",
        "model.add(MaxPooling2D((2, 2)))\n",
        "model.add(Flatten())\n",
        "model.add(Dense(128, activation=\"relu\"))\n",
        "model.add(Dense(no_classes, activation=\"softmax\"))\n",
        "\n",
        "# Compile and fit the model:\n",
        "model.compile(optimizer=opt, loss=loss_function, metrics=['accuracy'])\n",
        "model.fit(train_norm, Y_train, epochs=ep,batch_size=64)"
      ],
      "execution_count": null,
      "outputs": [
        {
          "output_type": "stream",
          "name": "stdout",
          "text": [
            "362/782 [============>.................] - ETA: 23s - loss: 1.6149 - accuracy: 0.4278"
          ]
        }
      ]
    },
    {
      "cell_type": "code",
      "metadata": {
        "id": "SS9M_It_NsCm"
      },
      "source": [
        "# Actual classes\n",
        "Y_test_classes = np.argmax(Y_test, axis=1)\n",
        "\n",
        "\n",
        "# Predicted classes\n",
        "predicted_test_classes = model.predict(test_norm).argmax(axis=1)"
      ],
      "execution_count": null,
      "outputs": []
    },
    {
      "cell_type": "markdown",
      "metadata": {
        "id": "utbgN0Acfyyu"
      },
      "source": [
        "Confusion matrix:"
      ]
    },
    {
      "cell_type": "code",
      "metadata": {
        "id": "5CcPirLBNyN7"
      },
      "source": [
        "plt.rcParams['figure.figsize'] = [10,7]\n",
        "\n",
        "def plot_confusion_matrix(cm, classes,normalize=False,cmap=plt.cm.Blues):\n",
        "\n",
        "  plt.imshow(cm, interpolation='nearest', cmap=cmap)\n",
        "  plt.title('Confusion matrix')\n",
        "  plt.colorbar()\n",
        "  tick_marks = np.arange(len(classes))\n",
        "  plt.xticks(tick_marks, classes, rotation=45)\n",
        "  plt.yticks(tick_marks, classes)\n",
        "\n",
        "  fmt = '.2f' if normalize else 'd'\n",
        "  thresh = cm.max() / 2.\n",
        "  for i, j in itertools.product(range(cm.shape[0]), range(cm.shape[1])):\n",
        "      plt.text(j, i, format(cm[i, j], fmt),\n",
        "               horizontalalignment=\"center\",\n",
        "               color=\"white\" if cm[i, j] > thresh else \"black\")\n",
        "\n",
        "  plt.tight_layout()\n",
        "  plt.ylabel('True label')\n",
        "  plt.xlabel('Predicted label')\n",
        "  plt.show()\n",
        "\n",
        "\n",
        "confusionMatrix = confusion_matrix(Y_test_classes, predicted_test_classes)\n",
        "plot_confusion_matrix(confusionMatrix, list(range(10)))\n",
        "\n",
        "\n",
        "print(\"\\nAccuracy, Recall, and Precision \\n=======================\\n\")\n",
        "print(\"Accuracy: \", \"{:.2f}\".format(accuracy_score(y_true=Y_test_classes, y_pred=predicted_test_classes)), \"\\n\")\n",
        "print(\"Recall: \", \"{:.2f}\".format(recall_score(y_true=Y_test_classes, y_pred=predicted_test_classes, average='weighted')), \"\\n\")\n",
        "print(\"Precision: \", \"{:.2f}\".format(precision_score(y_true=Y_test_classes, y_pred=predicted_test_classes, average='weighted')), \"\\n\")"
      ],
      "execution_count": null,
      "outputs": []
    }
  ]
}